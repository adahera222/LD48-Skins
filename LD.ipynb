{
 "metadata": {
  "name": "LD"
 },
 "nbformat": 3,
 "nbformat_minor": 0,
 "worksheets": [
  {
   "cells": [
    {
     "cell_type": "code",
     "collapsed": false,
     "input": [
      "from PIL import Image\n",
      "from PIL import ImageDraw\n",
      "from PIL import ImageChops\n",
      "import cocos\n",
      "import random\n",
      "import os\n",
      "from PIL import ImageEnhance"
     ],
     "language": "python",
     "metadata": {},
     "outputs": [],
     "prompt_number": 807
    },
    {
     "cell_type": "code",
     "collapsed": false,
     "input": [],
     "language": "python",
     "metadata": {},
     "outputs": [],
     "prompt_number": 807
    },
    {
     "cell_type": "code",
     "collapsed": false,
     "input": [
      "imgList = []"
     ],
     "language": "python",
     "metadata": {},
     "outputs": [],
     "prompt_number": 808
    },
    {
     "cell_type": "code",
     "collapsed": false,
     "input": [
      "myDir = ('/home/will/Desktop/ludumDare/imgz')\n",
      "noDir = ('/home/will/Desktop/ludumDare/imgz/rendz/')"
     ],
     "language": "python",
     "metadata": {},
     "outputs": [],
     "prompt_number": 809
    },
    {
     "cell_type": "code",
     "collapsed": false,
     "input": [
      "rendz = ('/home/will/Desktop/ludumDare/imgz/rendz/')"
     ],
     "language": "python",
     "metadata": {},
     "outputs": [],
     "prompt_number": 810
    },
    {
     "cell_type": "code",
     "collapsed": false,
     "input": [
      "os.chdir(myDir)"
     ],
     "language": "python",
     "metadata": {},
     "outputs": [],
     "prompt_number": 811
    },
    {
     "cell_type": "code",
     "collapsed": false,
     "input": [
      "ls"
     ],
     "language": "python",
     "metadata": {},
     "outputs": [
      {
       "output_type": "stream",
       "stream": "stdout",
       "text": [
        "bebier.png  brobeur.png  brodeta.png  cas.png  effy.png  \u001b[0m\u001b[01;34mout\u001b[0m/  \u001b[01;34mrendz\u001b[0m/\r\n"
       ]
      }
     ],
     "prompt_number": 812
    },
    {
     "cell_type": "code",
     "collapsed": false,
     "input": [
      "bebeirImg = Image.open('bebier.png')\n",
      "effyImg = Image.open('effy.png')\n",
      "casImg = Image.open('cas.png')\n",
      "detaImg = Image.open('brodeta.png')\n"
     ],
     "language": "python",
     "metadata": {},
     "outputs": [],
     "prompt_number": 813
    },
    {
     "cell_type": "code",
     "collapsed": false,
     "input": [
      "os.chdir(noDir)"
     ],
     "language": "python",
     "metadata": {},
     "outputs": [],
     "prompt_number": 814
    },
    {
     "cell_type": "code",
     "collapsed": false,
     "input": [
      "chdirz = random.choice(os.listdir(noDir))"
     ],
     "language": "python",
     "metadata": {},
     "outputs": [],
     "prompt_number": 815
    },
    {
     "cell_type": "code",
     "collapsed": false,
     "input": [],
     "language": "python",
     "metadata": {},
     "outputs": [],
     "prompt_number": 815
    },
    {
     "cell_type": "code",
     "collapsed": false,
     "input": [
      "deadImg = Image.open(chdirz)"
     ],
     "language": "python",
     "metadata": {},
     "outputs": [],
     "prompt_number": 816
    },
    {
     "cell_type": "code",
     "collapsed": false,
     "input": [
      "os.chdir(rendz)"
     ],
     "language": "python",
     "metadata": {},
     "outputs": [],
     "prompt_number": 817
    },
    {
     "cell_type": "code",
     "collapsed": false,
     "input": [
      "chdira = random.choice(os.listdir(rendz))"
     ],
     "language": "python",
     "metadata": {},
     "outputs": [],
     "prompt_number": 818
    },
    {
     "cell_type": "code",
     "collapsed": false,
     "input": [
      "showIza = Image.open(chdira)"
     ],
     "language": "python",
     "metadata": {},
     "outputs": [],
     "prompt_number": 819
    },
    {
     "cell_type": "code",
     "collapsed": false,
     "input": [
      "showIza.show()"
     ],
     "language": "python",
     "metadata": {},
     "outputs": [],
     "prompt_number": 820
    },
    {
     "cell_type": "code",
     "collapsed": false,
     "input": [
      "deadImg.size"
     ],
     "language": "python",
     "metadata": {},
     "outputs": [
      {
       "output_type": "pyout",
       "prompt_number": 821,
       "text": [
        "(1920, 1080)"
       ]
      }
     ],
     "prompt_number": 821
    },
    {
     "cell_type": "code",
     "collapsed": false,
     "input": [
      "deadImg.show()"
     ],
     "language": "python",
     "metadata": {},
     "outputs": [],
     "prompt_number": 822
    },
    {
     "cell_type": "code",
     "collapsed": false,
     "input": [
      "casTwist = casImg.rotate(90)"
     ],
     "language": "python",
     "metadata": {},
     "outputs": [],
     "prompt_number": 823
    },
    {
     "cell_type": "code",
     "collapsed": false,
     "input": [
      "twistImg = bebeirImg.rotate(90)"
     ],
     "language": "python",
     "metadata": {},
     "outputs": [],
     "prompt_number": 824
    },
    {
     "cell_type": "code",
     "collapsed": false,
     "input": [],
     "language": "python",
     "metadata": {},
     "outputs": [],
     "prompt_number": 824
    },
    {
     "cell_type": "code",
     "collapsed": false,
     "input": [
      "casizeImg = casImg.resize((1920, 1080), Image.BICUBIC)\n",
      "resizeImg = twistImg.resize((1920, 1080), Image.ANTIALIAS)\n",
      "efsizeImg = effyImg.resize((1920, 1080), Image.ANTIALIAS)\n",
      "detasizeImg = detaImg.resize((1920, 1080), Image.ANTIALIAS)"
     ],
     "language": "python",
     "metadata": {},
     "outputs": [],
     "prompt_number": 825
    },
    {
     "cell_type": "code",
     "collapsed": false,
     "input": [
      "detasizeImg.show()"
     ],
     "language": "python",
     "metadata": {},
     "outputs": [],
     "prompt_number": 826
    },
    {
     "cell_type": "code",
     "collapsed": false,
     "input": [
      "draw = ImageDraw.Draw(resizeImg)"
     ],
     "language": "python",
     "metadata": {},
     "outputs": [],
     "prompt_number": 827
    },
    {
     "cell_type": "code",
     "collapsed": false,
     "input": [
      "mergImg = ImageChops.difference(efsizeImg, resizeImg)"
     ],
     "language": "python",
     "metadata": {},
     "outputs": [],
     "prompt_number": 828
    },
    {
     "cell_type": "code",
     "collapsed": false,
     "input": [
      "mergImg.show()"
     ],
     "language": "python",
     "metadata": {},
     "outputs": [],
     "prompt_number": 829
    },
    {
     "cell_type": "code",
     "collapsed": false,
     "input": [
      "mergImg.size"
     ],
     "language": "python",
     "metadata": {},
     "outputs": [
      {
       "output_type": "pyout",
       "prompt_number": 830,
       "text": [
        "(1920, 1080)"
       ]
      }
     ],
     "prompt_number": 830
    },
    {
     "cell_type": "code",
     "collapsed": false,
     "input": [
      "mergLogo.size"
     ],
     "language": "python",
     "metadata": {},
     "outputs": [
      {
       "output_type": "pyout",
       "prompt_number": 831,
       "text": [
        "(1920, 1080)"
       ]
      }
     ],
     "prompt_number": 831
    },
    {
     "cell_type": "code",
     "collapsed": false,
     "input": [
      "deadImg.size"
     ],
     "language": "python",
     "metadata": {},
     "outputs": [
      {
       "output_type": "pyout",
       "prompt_number": 832,
       "text": [
        "(1920, 1080)"
       ]
      }
     ],
     "prompt_number": 832
    },
    {
     "cell_type": "code",
     "collapsed": false,
     "input": [
      "doubImg = ImageChops.darker(mergLogo, deadImg)"
     ],
     "language": "python",
     "metadata": {},
     "outputs": [],
     "prompt_number": 833
    },
    {
     "cell_type": "code",
     "collapsed": false,
     "input": [
      "devImg = ImageChops.invert(doubImg)"
     ],
     "language": "python",
     "metadata": {},
     "outputs": [],
     "prompt_number": 834
    },
    {
     "cell_type": "code",
     "collapsed": false,
     "input": [
      "devImg.show()"
     ],
     "language": "python",
     "metadata": {},
     "outputs": [],
     "prompt_number": 835
    },
    {
     "cell_type": "code",
     "collapsed": false,
     "input": [
      "finalImg = ImageChops.blend(doubImg, mergLogo, .2)"
     ],
     "language": "python",
     "metadata": {},
     "outputs": [],
     "prompt_number": 836
    },
    {
     "cell_type": "code",
     "collapsed": false,
     "input": [
      "finalImg.show()"
     ],
     "language": "python",
     "metadata": {},
     "outputs": [],
     "prompt_number": 837
    },
    {
     "cell_type": "code",
     "collapsed": false,
     "input": [
      "omgImg = ImageChops.screen(mergLogo, finalImg)"
     ],
     "language": "python",
     "metadata": {},
     "outputs": [],
     "prompt_number": 838
    },
    {
     "cell_type": "code",
     "collapsed": false,
     "input": [
      "omgImg.show()"
     ],
     "language": "python",
     "metadata": {},
     "outputs": [],
     "prompt_number": 839
    },
    {
     "cell_type": "code",
     "collapsed": false,
     "input": [
      "doubImg.show()"
     ],
     "language": "python",
     "metadata": {},
     "outputs": [],
     "prompt_number": 840
    },
    {
     "cell_type": "code",
     "collapsed": false,
     "input": [
      "encheImg = ImageEnhance.Sharpness(doubImg)"
     ],
     "language": "python",
     "metadata": {},
     "outputs": [],
     "prompt_number": 841
    },
    {
     "cell_type": "code",
     "collapsed": false,
     "input": [
      "onlyImg = encheImg.enhance(2)"
     ],
     "language": "python",
     "metadata": {},
     "outputs": [],
     "prompt_number": 842
    },
    {
     "cell_type": "code",
     "collapsed": false,
     "input": [
      "onlyImg.show()"
     ],
     "language": "python",
     "metadata": {},
     "outputs": [],
     "prompt_number": 843
    },
    {
     "cell_type": "code",
     "collapsed": false,
     "input": [
      "sendImg = ImageEnhance.Color(doubImg)"
     ],
     "language": "python",
     "metadata": {},
     "outputs": [],
     "prompt_number": 844
    },
    {
     "cell_type": "code",
     "collapsed": false,
     "input": [
      "coloImg = sendImg.enhance(0)"
     ],
     "language": "python",
     "metadata": {},
     "outputs": [],
     "prompt_number": 845
    },
    {
     "cell_type": "code",
     "collapsed": false,
     "input": [
      "coloImg.show()"
     ],
     "language": "python",
     "metadata": {},
     "outputs": [],
     "prompt_number": 846
    },
    {
     "cell_type": "code",
     "collapsed": false,
     "input": [
      "ls"
     ],
     "language": "python",
     "metadata": {},
     "outputs": [
      {
       "output_type": "stream",
       "stream": "stdout",
       "text": [
        "0001.png  0016.png  0031.png       night0001.png  test-0005.png  test-0020.png\r\n",
        "0002.png  0017.png  0032.png       night0002.png  test-0006.png  test-0021.png\r\n",
        "0003.png  0018.png  01.jpg         night0003.png  test-0007.png  test-0022.png\r\n",
        "0004.png  0019.png  01.png         night0004.png  test-0008.png  test-0023.png\r\n",
        "0005.png  0020.png  02.jpg         night0005.png  test-0009.png  test-0024.png\r\n",
        "0006.png  0021.png  03.jpg         night0006.png  test-0010.png  test-0025.png\r\n",
        "0007.png  0022.png  04.jpg         night0007.png  test-0011.png  test-0026.png\r\n",
        "0008.png  0023.png  05.jpg         night0008.png  test-0012.png  test-0027.png\r\n",
        "0009.png  0024.png  06.jpg         night0009.png  test-0013.png  test-0028.png\r\n",
        "0010.png  0025.png  09.png         night0010.png  test-0014.png  test-0029.png\r\n",
        "0011.png  0026.png  10.png         night0011.png  test-0015.png  test-0031.png\r\n",
        "0012.png  0027.png  11.png         test-0001.png  test-0016.png  test-0032.png\r\n",
        "0013.png  0028.png  12.png         test-0002.png  test-0017.png\r\n",
        "0014.png  0029.png  14.png         test-0003.png  test-0018.png\r\n",
        "0015.png  0030.png  minecraft.ttf  test-0004.png  test-0019.png\r\n"
       ]
      }
     ],
     "prompt_number": 847
    },
    {
     "cell_type": "code",
     "collapsed": false,
     "input": [
      "myColor = (49,10, 4)"
     ],
     "language": "python",
     "metadata": {},
     "outputs": [],
     "prompt_number": 848
    },
    {
     "cell_type": "code",
     "collapsed": false,
     "input": [
      "import ImageFont, ImageDraw\n",
      "\n",
      "draw = ImageDraw.Draw(coloImg)\n",
      "# use a truetype font\n",
      "font = ImageFont.truetype(\"minecraft.ttf\", 32)\n",
      "draw.text((100, 200), \"Ludum Dare\", fill=(myColor),font=font)\n",
      "draw.text((100, 300), 'Skins: You Only Get One Episode', fill =(myColor),font=font)\n",
      "draw.text((100, 400), 'December 2013', fill = (myColor), font=font)"
     ],
     "language": "python",
     "metadata": {},
     "outputs": [],
     "prompt_number": 849
    },
    {
     "cell_type": "code",
     "collapsed": false,
     "input": [
      "coloImg.show()"
     ],
     "language": "python",
     "metadata": {},
     "outputs": [],
     "prompt_number": 850
    },
    {
     "cell_type": "code",
     "collapsed": false,
     "input": [
      "beberNew = ImageChops.subtract(resizeImg, deadImg)"
     ],
     "language": "python",
     "metadata": {},
     "outputs": [],
     "prompt_number": 851
    },
    {
     "cell_type": "code",
     "collapsed": false,
     "input": [
      "os.chdir('/home/will/Desktop/ludumDare/imgz/out')"
     ],
     "language": "python",
     "metadata": {},
     "outputs": [],
     "prompt_number": 894
    },
    {
     "cell_type": "code",
     "collapsed": false,
     "input": [
      "beberNew.save('01.png')"
     ],
     "language": "python",
     "metadata": {},
     "outputs": [],
     "prompt_number": 852
    },
    {
     "cell_type": "code",
     "collapsed": false,
     "input": [
      "efsizeImg.show()"
     ],
     "language": "python",
     "metadata": {},
     "outputs": [],
     "prompt_number": 853
    },
    {
     "cell_type": "code",
     "collapsed": false,
     "input": [
      "efsizeImg.save('02.png')"
     ],
     "language": "python",
     "metadata": {},
     "outputs": [],
     "prompt_number": 854
    },
    {
     "cell_type": "code",
     "collapsed": false,
     "input": [
      "mergImg.show()"
     ],
     "language": "python",
     "metadata": {},
     "outputs": [],
     "prompt_number": 855
    },
    {
     "cell_type": "code",
     "collapsed": false,
     "input": [
      "mergImg.save('03.png')"
     ],
     "language": "python",
     "metadata": {},
     "outputs": [],
     "prompt_number": 856
    },
    {
     "cell_type": "code",
     "collapsed": false,
     "input": [
      "doubMerg = ImageChops.blend(mergImg, casizeImg, .5)"
     ],
     "language": "python",
     "metadata": {},
     "outputs": [],
     "prompt_number": 857
    },
    {
     "cell_type": "code",
     "collapsed": false,
     "input": [
      "doubMerg.show()"
     ],
     "language": "python",
     "metadata": {},
     "outputs": [],
     "prompt_number": 858
    },
    {
     "cell_type": "code",
     "collapsed": false,
     "input": [
      "doubMerg.save('04.png')"
     ],
     "language": "python",
     "metadata": {},
     "outputs": [],
     "prompt_number": 859
    },
    {
     "cell_type": "code",
     "collapsed": false,
     "input": [
      "invertMerg = ImageChops.invert(doubMerg)"
     ],
     "language": "python",
     "metadata": {},
     "outputs": [],
     "prompt_number": 860
    },
    {
     "cell_type": "code",
     "collapsed": false,
     "input": [
      "invertMerg.show()"
     ],
     "language": "python",
     "metadata": {},
     "outputs": [],
     "prompt_number": 861
    },
    {
     "cell_type": "code",
     "collapsed": false,
     "input": [
      "invertMerg.save('05.png')"
     ],
     "language": "python",
     "metadata": {},
     "outputs": [],
     "prompt_number": 862
    },
    {
     "cell_type": "code",
     "collapsed": false,
     "input": [
      "againEffect = ImageChops.difference(doubMerg, efsizeImg)"
     ],
     "language": "python",
     "metadata": {},
     "outputs": [],
     "prompt_number": 863
    },
    {
     "cell_type": "code",
     "collapsed": false,
     "input": [
      "againEffect.show()"
     ],
     "language": "python",
     "metadata": {},
     "outputs": [],
     "prompt_number": 864
    },
    {
     "cell_type": "code",
     "collapsed": false,
     "input": [
      "againEffect.save('06.png')"
     ],
     "language": "python",
     "metadata": {},
     "outputs": [],
     "prompt_number": 865
    },
    {
     "cell_type": "code",
     "collapsed": false,
     "input": [
      "ls"
     ],
     "language": "python",
     "metadata": {},
     "outputs": [
      {
       "output_type": "stream",
       "stream": "stdout",
       "text": [
        "0001.png  0017.png  01.jpg  14.png         test-0004.png  test-0020.png\r\n",
        "0002.png  0018.png  01.png  minecraft.ttf  test-0005.png  test-0021.png\r\n",
        "0003.png  0019.png  02.jpg  night0001.png  test-0006.png  test-0022.png\r\n",
        "0004.png  0020.png  02.png  night0002.png  test-0007.png  test-0023.png\r\n",
        "0005.png  0021.png  03.jpg  night0003.png  test-0008.png  test-0024.png\r\n",
        "0006.png  0022.png  03.png  night0004.png  test-0009.png  test-0025.png\r\n",
        "0007.png  0023.png  04.jpg  night0005.png  test-0010.png  test-0026.png\r\n",
        "0008.png  0024.png  04.png  night0006.png  test-0011.png  test-0027.png\r\n",
        "0009.png  0025.png  05.jpg  night0007.png  test-0012.png  test-0028.png\r\n",
        "0010.png  0026.png  05.png  night0008.png  test-0013.png  test-0029.png\r\n",
        "0011.png  0027.png  06.jpg  night0009.png  test-0014.png  test-0031.png\r\n",
        "0012.png  0028.png  06.png  night0010.png  test-0015.png  test-0032.png\r\n",
        "0013.png  0029.png  09.png  night0011.png  test-0016.png\r\n",
        "0014.png  0030.png  10.png  test-0001.png  test-0017.png\r\n",
        "0015.png  0031.png  11.png  test-0002.png  test-0018.png\r\n",
        "0016.png  0032.png  12.png  test-0003.png  test-0019.png\r\n"
       ]
      }
     ],
     "prompt_number": 866
    },
    {
     "cell_type": "code",
     "collapsed": false,
     "input": [],
     "language": "python",
     "metadata": {},
     "outputs": [],
     "prompt_number": 866
    },
    {
     "cell_type": "code",
     "collapsed": false,
     "input": [
      "imgSwatch = ImageChops.difference(againEffect, coloImg)"
     ],
     "language": "python",
     "metadata": {},
     "outputs": [],
     "prompt_number": 867
    },
    {
     "cell_type": "code",
     "collapsed": false,
     "input": [
      "imgSwatch.show()"
     ],
     "language": "python",
     "metadata": {},
     "outputs": [],
     "prompt_number": 868
    },
    {
     "cell_type": "code",
     "collapsed": false,
     "input": [
      "imgSwatch.save('07.png')"
     ],
     "language": "python",
     "metadata": {},
     "outputs": [],
     "prompt_number": 869
    },
    {
     "cell_type": "code",
     "collapsed": false,
     "input": [
      "imgNover = ImageChops.subtract(imgSwatch, coloImg)"
     ],
     "language": "python",
     "metadata": {},
     "outputs": [],
     "prompt_number": 870
    },
    {
     "cell_type": "code",
     "collapsed": false,
     "input": [
      "imgNover.show()"
     ],
     "language": "python",
     "metadata": {},
     "outputs": [],
     "prompt_number": 871
    },
    {
     "cell_type": "code",
     "collapsed": false,
     "input": [
      "imgNover.save('08.png')"
     ],
     "language": "python",
     "metadata": {},
     "outputs": [],
     "prompt_number": 872
    },
    {
     "cell_type": "code",
     "collapsed": false,
     "input": [
      "imgPerta = ImageEnhance.Color(imgNover)"
     ],
     "language": "python",
     "metadata": {},
     "outputs": [],
     "prompt_number": 873
    },
    {
     "cell_type": "code",
     "collapsed": false,
     "input": [
      "imgNacz = imgPerta.enhance(5)"
     ],
     "language": "python",
     "metadata": {},
     "outputs": [],
     "prompt_number": 874
    },
    {
     "cell_type": "code",
     "collapsed": false,
     "input": [
      "imgNacz.show()"
     ],
     "language": "python",
     "metadata": {},
     "outputs": [],
     "prompt_number": 875
    },
    {
     "cell_type": "code",
     "collapsed": false,
     "input": [
      "imgNover.save('09.png')"
     ],
     "language": "python",
     "metadata": {},
     "outputs": [],
     "prompt_number": 876
    },
    {
     "cell_type": "code",
     "collapsed": false,
     "input": [
      "detaAdd = ImageChops.difference(detasizeImg, imgNacz)"
     ],
     "language": "python",
     "metadata": {},
     "outputs": [],
     "prompt_number": 877
    },
    {
     "cell_type": "code",
     "collapsed": false,
     "input": [
      "detaAdd.show()"
     ],
     "language": "python",
     "metadata": {},
     "outputs": [],
     "prompt_number": 878
    },
    {
     "cell_type": "code",
     "collapsed": false,
     "input": [
      "detaAdd.save('10.png')"
     ],
     "language": "python",
     "metadata": {},
     "outputs": [],
     "prompt_number": 879
    },
    {
     "cell_type": "code",
     "collapsed": false,
     "input": [
      "polyAdd = ImageChops.lighter(detaAdd, coloImg)"
     ],
     "language": "python",
     "metadata": {},
     "outputs": [],
     "prompt_number": 880
    },
    {
     "cell_type": "code",
     "collapsed": false,
     "input": [
      "polyAdd.save('11.png')"
     ],
     "language": "python",
     "metadata": {},
     "outputs": [],
     "prompt_number": 881
    },
    {
     "cell_type": "code",
     "collapsed": false,
     "input": [
      "polyAdd.show()"
     ],
     "language": "python",
     "metadata": {},
     "outputs": [],
     "prompt_number": 882
    },
    {
     "cell_type": "code",
     "collapsed": false,
     "input": [
      "fixAdd = ImageEnhance.Color(polyAdd)"
     ],
     "language": "python",
     "metadata": {},
     "outputs": [],
     "prompt_number": 883
    },
    {
     "cell_type": "code",
     "collapsed": false,
     "input": [
      "neverAdd = fixAdd.enhance(0)"
     ],
     "language": "python",
     "metadata": {},
     "outputs": [],
     "prompt_number": 884
    },
    {
     "cell_type": "code",
     "collapsed": false,
     "input": [
      "neverAdd.show()"
     ],
     "language": "python",
     "metadata": {},
     "outputs": [],
     "prompt_number": 885
    },
    {
     "cell_type": "code",
     "collapsed": false,
     "input": [
      "neverAdd.save('12.png')"
     ],
     "language": "python",
     "metadata": {},
     "outputs": [],
     "prompt_number": 886
    },
    {
     "cell_type": "code",
     "collapsed": false,
     "input": [
      "dumpAdd = ImageEnhance.Sharpness(neverAdd)"
     ],
     "language": "python",
     "metadata": {},
     "outputs": [],
     "prompt_number": 887
    },
    {
     "cell_type": "code",
     "collapsed": false,
     "input": [
      "argAdd = dumpAdd.enhance(10)"
     ],
     "language": "python",
     "metadata": {},
     "outputs": [],
     "prompt_number": 888
    },
    {
     "cell_type": "code",
     "collapsed": false,
     "input": [
      "argAdd.show()"
     ],
     "language": "python",
     "metadata": {},
     "outputs": [],
     "prompt_number": 889
    },
    {
     "cell_type": "code",
     "collapsed": false,
     "input": [
      "neverAdd.save('13.png')"
     ],
     "language": "python",
     "metadata": {},
     "outputs": [],
     "prompt_number": 890
    },
    {
     "cell_type": "code",
     "collapsed": false,
     "input": [
      "swapAdd = ImageChops.subtract(argAdd, mergImg)"
     ],
     "language": "python",
     "metadata": {},
     "outputs": [],
     "prompt_number": 891
    },
    {
     "cell_type": "code",
     "collapsed": false,
     "input": [
      "swapAdd.show()"
     ],
     "language": "python",
     "metadata": {},
     "outputs": [],
     "prompt_number": 892
    },
    {
     "cell_type": "code",
     "collapsed": false,
     "input": [
      "swapAdd.save('14.png')"
     ],
     "language": "python",
     "metadata": {},
     "outputs": [],
     "prompt_number": 893
    },
    {
     "cell_type": "code",
     "collapsed": false,
     "input": [],
     "language": "python",
     "metadata": {},
     "outputs": [],
     "prompt_number": 893
    }
   ],
   "metadata": {}
  }
 ]
}